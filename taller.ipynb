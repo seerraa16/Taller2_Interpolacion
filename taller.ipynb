{
 "cells": [
  {
   "cell_type": "markdown",
   "metadata": {},
   "source": [
    "# Taller 2 Interpolación\n"
   ]
  },
  {
   "cell_type": "markdown",
   "metadata": {},
   "source": [
    "## Introducción \n",
    "1. . Cree una función en Python que a partir de un conjunto de n + 1 datos, calcule el polinomio de interpolación de Newton de grado n. Grafique el polinomio de interpolación junto con lo datos experimetales aportados en el archivo \"Datos Taller 2.txt\" en el rango [0, 6]\n",
    "\n",
    "2. Cree una función en Python que a partir de un conjunto de n + 1 datos, calcule el polinomio de interpolación de Lagrange de grado n. Grafique el polinomio de interpolación junto con lo datos experimetales aportados en el archivo \"Datos Taller 2.txt\" en el rango [0, 6].\n",
    "\n",
    "3. Cree una función en Python que a partir de un conjunto de n + 1 datos, calcule el polinomio de interpolación a través de splines cúbicos. Grafique el polinomio de interpolación junto con lo datos experimetales aportados en el archivo \"Datos Taller 2.txt\" en el rango [0, 6"
   ]
  },
  {
   "cell_type": "markdown",
   "metadata": {},
   "source": [
    "## Métodos y modelos matemáticos\n",
    "1. Interpolación de Newton\n",
    "    La interpolación de Newton se basa en la forma de Newton del polinomio interpolante, que se construye utilizando diferencias divididas.\n",
    "    El polinomio interpolante de Newton se expresa como:\n",
    "    \\begin{equation}\n",
    "    P_n(x) = f(x_0) + (x - x_0) f[x_0, x_1] + (x - x_0)(x - x_1) f[x_0, x_1, x_2] + \\dots + (x - x_0) \\dots (x - x_{n-1}) f[x_0, x_1, \\dots, x_n]\n",
    "    \\end{equation}\n",
    "    Las diferencias divididas se calculan recursivamente como:\n",
    "\n",
    "    \\begin{equation}\n",
    "    f[x_i, x_{i+1}] = \\frac{f(x_{i+1}) - f(x_i)}{x_{i+1} - x_i}\n",
    "    \\end{equation}\n",
    "\n",
    "    \\begin{equation}\n",
    "    f[x_i, x_{i+1}, x_{i+2}] = \\frac{f[x_{i+1}, x_{i+2}] - f[x_i, x_{i+1}]}{x_{i+2} - x_i}\n",
    "    \\end{equation}\n",
    "\n",
    "    La ventaja de este modelo matemático es que es eficiente cuando se agregan nuevos puntos, pues solo se recalcula el ultimo punto. Su desventaja es que puede ser inestable cuando tengamos un gran numero de puntos debido a la perdida de precision por los errores.\n",
    "\n",
    "2. Interpolación de Lagrange\n",
    "    El polinomio de interpolación de Lagrange se construye mediante una combinación lineal de polinomios base llamados polinomios de Lagrange.\n",
    "    El polinomio de interpolación de Lagrange se define como:\n",
    "\n",
    "    \\begin{equation}\n",
    "    P_n(x) = \\sum_{i=0}^{n} f(x_i) L_i(x)\n",
    "    \\end{equation}\n",
    "\n",
    "    donde los polinomios base de Lagrange son:\n",
    "\n",
    "    \\begin{equation}\n",
    "    L_i(x) = \\prod_{\\substack{j=0 \\\\ j \\neq i}}^{n} \\frac{x - x_j}{x_i - x_j}\n",
    "    \\end{equation}\n",
    "\n",
    "    la gran ventaja que tiene este modelo es que es muy sencillo de aplicar, sin embargo, su desventaja es que es muy costosos computacionalmente debido a la gran cantidad de operaciones que se deben realizar.\n",
    "\n",
    "3. Splines cúbicos\n",
    "    Los splines cúbicos son funciones polinómicas por tramos que garantizan suavidad en las transiciones entre puntos. Se utilizan para interpolar datos de forma más estable que los polinomios de Newton o Lagrange.\n",
    "\n",
    "    Un spline cúbico es una función por tramos de la forma:\n",
    "\n",
    "    \\begin{equation}\n",
    "    S_i(x) = a_i + b_i (x - x_i) + c_i (x - x_i)^2 + d_i (x - x_i)^3\n",
    "    \\end{equation}\n",
    "\n",
    "    Para que la interpolación sea suave, se cumplen las siguientes condiciones:\n",
    "\n",
    "    \\subsection{Condiciones de continuidad}\n",
    "\n",
    "    \\begin{itemize}\n",
    "        \\item Paso por los puntos de datos:\n",
    "        \\begin{equation}\n",
    "        S_i(x_i) = f(x_i), \\quad S_i(x_{i+1}) = f(x_{i+1})\n",
    "        \\end{equation}\n",
    "        \\item Continuidad de la primera y segunda derivada:\n",
    "        \\begin{equation}\n",
    "        S_i'(x_{i+1}) = S_{i+1}'(x_{i+1}), \\quad S_i''(x_{i+1}) = S_{i+1}''(x_{i+1})\n",
    "        \\end{equation}\n",
    "        \\item Condiciones de frontera (Spline natural):\n",
    "        \\begin{equation}\n",
    "        S''(x_0) = 0, \\quad S''(x_n) = 0\n",
    "        \\end{equation}\n",
    "\n",
    "    Las dos ventajas que tiene este modelo es que es mas preciso que los polinomios de Newton y Lagrange y que tiene una mayor suavidad en la interpolacion. Su gran desventaja es que es más costoso computacionalmente debido a la necesidad de resolver un sistema de ecuaciones.\n",
    "\n",
    "    En conclusión no hay un metodo mejor que otro, sino que se debe escoger el que mejor se adapte a las necesidades del problema.\n",
    "\n"
   ]
  },
  {
   "cell_type": "markdown",
   "metadata": {},
   "source": [
    "## Anexo"
   ]
  },
  {
   "cell_type": "code",
   "execution_count": null,
   "metadata": {},
   "outputs": [],
   "source": [
    "# Ejercicio 1 \n",
    "import numpy as np\n",
    "import matplotlib.pyplot as plt\n",
    "from scipy.interpolate import CubicSpline\n",
    "\n",
    "# Espacio para los datos (debes reemplazar estas listas con los datos reales)\n",
    "x_data = []  # Reemplazar con los valores de x\n",
    "y_data = []  # Reemplazar con los valores de y\n",
    "\n",
    "# Verifica que se hayan ingresado datos antes de proceder\n",
    "if len(x_data) > 0 and len(y_data) > 0:\n",
    "    # Crear el spline cúbico\n",
    "    spline = CubicSpline(x_data, y_data)\n",
    "    \n",
    "    # Crear un rango de valores de x para una curva suave\n",
    "    x_smooth = np.linspace(0, 6, 100)\n",
    "    y_smooth = spline(x_smooth)\n",
    "    \n",
    "    # Graficar los puntos experimentales y el spline\n",
    "    plt.scatter(x_data, y_data, color='red', label='Datos experimentales')\n",
    "    plt.plot(x_smooth, y_smooth, label='Interpolación Spline', color='blue')\n",
    "    plt.xlabel('X')\n",
    "    plt.ylabel('Y')\n",
    "    plt.title('Interpolación por Splines Cúbicos')\n",
    "    plt.legend()\n",
    "    plt.grid()\n",
    "    plt.show()\n",
    "else:\n",
    "    print(\"Por favor, ingrese los datos en x_data y y_data antes de ejecutar el código.\")\n"
   ]
  }
 ],
 "metadata": {
  "kernelspec": {
   "display_name": "base",
   "language": "python",
   "name": "python3"
  },
  "language_info": {
   "name": "python",
   "version": "3.12.7"
  }
 },
 "nbformat": 4,
 "nbformat_minor": 2
}
